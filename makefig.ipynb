{
 "cells": [
  {
   "cell_type": "code",
   "execution_count": null,
   "id": "a419a610",
   "metadata": {},
   "outputs": [],
   "source": [
    "import numpy as np\n",
    "import xarray as xr\n",
    "import hvplot.xarray\n",
    "import glob\n",
    "import holoviews as hv\n",
    "hv.extension('bokeh')"
   ]
  },
  {
   "cell_type": "markdown",
   "id": "974b581f",
   "metadata": {},
   "source": [
    "# environment(on conda)"
   ]
  },
  {
   "cell_type": "markdown",
   "id": "c70be44b",
   "metadata": {},
   "source": [
    "```bash\n",
    "conda create -y -n holo python=3.7\n",
    "conda activate holo\n",
    "# https://xarray.pydata.org/en/stable/getting-started-guide/installing.html#instructions\n",
    "conda install -y -c conda-forge xarray dask netCDF4 bottleneck\n",
    "conda install -y -c conda-forge hvplot\n",
    "conda install -y -c conda-forge selenium\n",
    "conda install -y -c conda-forge firefox geckodriver\n",
    "conda install -y -c conda-forge jupyter\n",
    "```"
   ]
  },
  {
   "cell_type": "markdown",
   "id": "f9515121",
   "metadata": {},
   "source": [
    "# make html & png"
   ]
  },
  {
   "cell_type": "markdown",
   "id": "4d5ece71",
   "metadata": {},
   "source": [
    "##  read"
   ]
  },
  {
   "cell_type": "code",
   "execution_count": null,
   "id": "768775db",
   "metadata": {},
   "outputs": [],
   "source": [
    "fs = glob.glob('out0*.nc')\n",
    "fs.sort()\n",
    "dd = []\n",
    "for f in fs:\n",
    "    ds = xr.open_dataset(f)\n",
    "    U = ds['u'].values\n",
    "    V = ds['v'].values\n",
    "    Vmag = np.sqrt( U**2 + V**2) + 0.00000001\n",
    "    angle = (np.pi/2.) - np.arctan2(U/Vmag, V/Vmag)\n",
    "    ds['Vmag'] = (['t','x','y'], Vmag)\n",
    "    ds['angle'] =(['t','x','y'], angle)\n",
    "    ds = ds.drop(['u','v'])\n",
    "    dd.append(ds)\n",
    "    \n",
    "dss = xr.concat(dd, dim=\"t\")"
   ]
  },
  {
   "cell_type": "code",
   "execution_count": null,
   "id": "c93ead9b",
   "metadata": {},
   "outputs": [],
   "source": [
    "with open('obst.dat', mode='r', encoding='utf-8') as response:\n",
    "    l = next(response)\n",
    "    l = next(response)\n",
    "\n",
    "ll = l.replace('\\n','').split(',')\n",
    "i1,i2,j1,j2 = np.array(ll, dtype=int)\n",
    "\n",
    "x1 = dss['x'].values[i1]\n",
    "x2 = dss['x'].values[i2]\n",
    "y1 = dss['y'].values[j1]\n",
    "y2 = dss['y'].values[j2]\n",
    "\n",
    "fPoly = hv.Polygons(np.array([[x1,y1],[x2,y1],[x2,y2],[x1,y2]])).options(fill_color='green')"
   ]
  },
  {
   "cell_type": "markdown",
   "id": "81ff9257",
   "metadata": {},
   "source": [
    "##  make html graph"
   ]
  },
  {
   "cell_type": "code",
   "execution_count": null,
   "id": "9bedb819",
   "metadata": {},
   "outputs": [],
   "source": [
    "fVec = dss.hvplot.vectorfield(x='x', y='y', groupby='t', angle='angle', mag='Vmag',hover=False)\n",
    "fVor = dss['vortex'].hvplot(frame_height=220, frame_width=600, x='x', y='y', cmap='bwr', clim=(-10,10)) \n",
    "g = fVor * fVec * fPoly"
   ]
  },
  {
   "cell_type": "code",
   "execution_count": null,
   "id": "21742865",
   "metadata": {},
   "outputs": [],
   "source": [
    "g"
   ]
  },
  {
   "cell_type": "markdown",
   "id": "24744e74",
   "metadata": {},
   "source": [
    "### Thinning out  for github"
   ]
  },
  {
   "cell_type": "code",
   "execution_count": null,
   "id": "b89a4a2b",
   "metadata": {},
   "outputs": [],
   "source": [
    "dssp = dss.isel( t=range(0,int(dss.dims['t']/2),10) )"
   ]
  },
  {
   "cell_type": "code",
   "execution_count": null,
   "id": "b19ec04f",
   "metadata": {},
   "outputs": [],
   "source": [
    "fVec = dssp.hvplot.vectorfield(x='x', y='y', groupby='t', angle='angle', mag='Vmag',hover=False)\n",
    "fVor = dssp['vortex'].hvplot(frame_height=220, frame_width=600, x='x', y='y', cmap='bwr', clim=(-10,10)) \n",
    "g = fVor * fVec * fPoly"
   ]
  },
  {
   "cell_type": "markdown",
   "id": "455b70c9",
   "metadata": {},
   "source": [
    "###  export html"
   ]
  },
  {
   "cell_type": "code",
   "execution_count": null,
   "id": "12943fc8",
   "metadata": {},
   "outputs": [],
   "source": [
    "d = hvplot.save(g,'out.html')\n",
    "del d"
   ]
  },
  {
   "cell_type": "markdown",
   "id": "e56a415b",
   "metadata": {},
   "source": [
    "###  export png"
   ]
  },
  {
   "cell_type": "code",
   "execution_count": null,
   "id": "f4cdcfb3",
   "metadata": {},
   "outputs": [],
   "source": [
    "%%time\n",
    "for i, t in enumerate( dssp['t'].values ):\n",
    "    gp = g[t].options(title=str(np.round(t,3)) + ' sec', toolbar=None)\n",
    "    d = hvplot.save(gp,'png'+str(i).zfill(8) +'.png')\n",
    "del d"
   ]
  },
  {
   "cell_type": "markdown",
   "id": "3336ab90",
   "metadata": {},
   "source": [
    "# make gif "
   ]
  },
  {
   "cell_type": "code",
   "execution_count": null,
   "id": "ed45665b",
   "metadata": {},
   "outputs": [],
   "source": [
    "from PIL import Image"
   ]
  },
  {
   "cell_type": "code",
   "execution_count": null,
   "id": "772971c0",
   "metadata": {},
   "outputs": [],
   "source": [
    "fs = glob.glob(\"*.png\")\n",
    "imgs = [Image.open(f) for f in fs]\n",
    "# imgs = imgs[0:501:2]\n",
    "# appendした画像配列をGIFにする。durationで持続時間、loopでループ数を指定可能。\n",
    "d= imgs[0].save('out.gif',\n",
    "             save_all=True, append_images=imgs[1:], optimize=False, duration=0.5, loop=0)\n",
    "del d"
   ]
  }
 ],
 "metadata": {
  "kernelspec": {
   "display_name": "Python 3",
   "language": "python",
   "name": "python3"
  },
  "language_info": {
   "codemirror_mode": {
    "name": "ipython",
    "version": 3
   },
   "file_extension": ".py",
   "mimetype": "text/x-python",
   "name": "python",
   "nbconvert_exporter": "python",
   "pygments_lexer": "ipython3",
   "version": "3.7.10"
  },
  "toc": {
   "base_numbering": 1,
   "nav_menu": {},
   "number_sections": true,
   "sideBar": true,
   "skip_h1_title": false,
   "title_cell": "Table of Contents",
   "title_sidebar": "Contents",
   "toc_cell": false,
   "toc_position": {},
   "toc_section_display": true,
   "toc_window_display": true
  }
 },
 "nbformat": 4,
 "nbformat_minor": 5
}
